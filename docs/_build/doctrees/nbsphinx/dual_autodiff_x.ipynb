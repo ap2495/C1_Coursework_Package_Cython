{
 "cells": [
  {
   "cell_type": "markdown",
   "metadata": {},
   "source": [
    "# Dual Autodifferentiation Tutorial"
   ]
  },
  {
   "cell_type": "markdown",
   "metadata": {},
   "source": [
    "## Demonstration of the Dual Class\n",
    "\n",
    "This notebook demonstrates the implementation of the `Dual_x` class, which performs automatic differentiation through the use of dual numbers. Dual numbers are represented as $a + b\\varepsilon$. The number $\\varepsilon$ is defined such that its square vanishes. The key property of Dual numbers is that a function of a dual number $f(a + b\\varepsilon) = f(a) + f'(a)b\\varepsilon$, so we can simply read of the derivative of any function $f$ by setting $b=1$ and evaluating the value of the function at the dual number.\n",
    "\n",
    "In this tutorial, we will show the implementation:\n",
    "\n",
    "- Arithmetic operations: addition, subtraction, multiplication, exponentiation.\n",
    "- Important functions: sine, cosine, tangent, logarithm, and exponential.\n",
    "- Special cases, such as exceptions and warnings.\n",
    "\n",
    "Note: The `Dual_x_array` class has identical syntax to `Dual_x`, but only takes arrays as inputs, because the attribute types are statically declared.\n"
   ]
  },
  {
   "cell_type": "markdown",
   "metadata": {},
   "source": [
    "## Basic Arithmetic\n",
    "\n",
    "The basic arithmetic operations on dual numbers are summarized below:\n",
    "\n",
    "- Addition: `(a + bε) + (c + dε) = (a+c) + (b+d)ε`\n",
    "- Subtraction: `(a + bε) - (c + dε) = (a-c) + (b-d)ε`\n",
    "- Multiplication: `(a + bε)(c + dε) = ac + (ad+bc)ε` (since `ε² = 0`)\n",
    "- Exponentiation: `(a + bε)^n = a^n + n a^(n-1) b ε`\n",
    "\n",
    "For addition and subtraction, we treat the real and dual parts of the two number independently. For multiplication, we expand the product and drop the term with $\\varepsilon^2$. For exponentiation, we use the formula $f(a + b\\varepsilon) = f(a) + f'(a)b\\varepsilon$."
   ]
  },
  {
   "cell_type": "code",
   "execution_count": null,
   "metadata": {},
   "outputs": [
    {
     "name": "stdout",
     "output_type": "stream",
     "text": [
      "x + y = 8.0 + 9.0ε\n",
      "x - y = 2.0 + 5.0ε\n",
      "x * y = 15.0 + 31.0ε\n",
      "x^3 = 125.0 + 525.0ε\n"
     ]
    }
   ],
   "source": [
    "\"\"\"Let us start by importing the necessary libraries.\"\"\"\n",
    "from dual_autodiff_x.dual import Dual_x\n",
    "import numpy as np\n",
    "import warnings\n",
    "\n",
    "\"\"\"We define two dual numbers x and y.\"\"\"\n",
    "x = Dual_x(5.0, 7.0)   # represents 2 + 1ε\n",
    "y = Dual_x(3.0, 2.0)   # represents 3 + 4ε\n",
    "\n",
    "# Addition\n",
    "z_add = x + y\n",
    "print(\"x + y = {} + {}ε\".format(z_add.real, z_add.dual))\n",
    "\n",
    "# Subtraction\n",
    "z_sub = x - y\n",
    "print(\"x - y = {} + {}ε\".format(z_sub.real, z_sub.dual))\n",
    "\n",
    "# Multiplication\n",
    "z_mul = x * y\n",
    "print(\"x * y = {} + {}ε\".format(z_mul.real, z_mul.dual))\n",
    "\n",
    "# Exponentiation\n",
    "z_pow = x ** 3\n",
    "print(\"x^3 = {} + {}ε\".format(z_pow.real, z_pow.dual))\n"
   ]
  },
  {
   "cell_type": "markdown",
   "metadata": {},
   "source": [
    "## Functions\n",
    "\n",
    "The `Dual_x` class supports several elementary functions:\n",
    "\n",
    "1. **Sine and Cosine**:\n",
    "   - ``sin(a + bε) = sin(a) + cos(a) b ε``\n",
    "   - ``cos(a + bε) = cos(a) - sin(a) b ε``\n",
    "\n",
    "2. **Tangent**:\n",
    "   - ``tan(a + bε) = tan(a) + sec^2(a) b ε``\n",
    "   - If ``a`` is close to ``(π/2 + nπ)`` boundaries, we find that both ``tan`` and ``sec`` asymptotically approach ``∞``. The function will give a warning if ``a`` (real part) is found to be within ``10^{-6}`` of the boundaries, and raise an exception if it gets to within ``10^{-10}``.\n",
    "\n",
    "3. **Logarithm**:\n",
    "   - ``log(a + bε) = log(a) + (1/a) b ε``\n",
    "   - The real part requires ``a > 0`` and the dual part only requires ``a ≠ 0``. The function will raise exceptions if these conditions are not met. If ``0 < a ≤ 10^{-10}``, there is risk of overflow/floating precision inaccuracy, so an exception is issued. Warnings will be issued if ``10^{-10} < a < 10^{-6}``.\n",
    "\n",
    "4. **Exponential**:\n",
    "   - ``exp(a + bε) = exp(a) + exp(a) b ε``\n"
   ]
  },
  {
   "cell_type": "code",
   "execution_count": 2,
   "metadata": {},
   "outputs": [
    {
     "name": "stdout",
     "output_type": "stream",
     "text": [
      "sin(x) = -0.96 + 1.99ε\n",
      "cos(x) = 0.28 + 6.71ε\n",
      "tan(x) = -3.38 + 87.00ε\n",
      "log(x) = 1.61 + 1.40ε\n",
      "exp(x) = 148.41 + 1038.89ε\n"
     ]
    }
   ],
   "source": [
    "# Let's test with x = Dual_x(5.0, 7.0) which represents 5.0 + 7.0ε\n",
    "x = Dual_x(5.0, 7.0)\n",
    "\n",
    "x_sin = x.sin()\n",
    "print(\"sin(x) = {:.2f} + {:.2f}ε\".format(x_sin.real, x_sin.dual))\n",
    "\n",
    "x_cos = x.cos()\n",
    "print(\"cos(x) = {:.2f} + {:.2f}ε\".format(x_cos.real, x_cos.dual))\n",
    "\n",
    "x_tan = x.tan()\n",
    "print(\"tan(x) = {:.2f} + {:.2f}ε\".format(x_tan.real, x_tan.dual))\n",
    "\n",
    "x_log = x.log()\n",
    "print(\"log(x) = {:.2f} + {:.2f}ε\".format(x_log.real, x_log.dual))\n",
    "\n",
    "x_exp = x.exp()\n",
    "print(\"exp(x) = {:.2f} + {:.2f}ε\".format(x_exp.real, x_exp.dual))"
   ]
  },
  {
   "cell_type": "markdown",
   "metadata": {},
   "source": [
    "## Exceptions and Warnings\n",
    "\n",
    "**Tangent near undefined points:**\n",
    "- `tan(a)` and `sec(a)` are both undefined at `a = π/2 + nπ`, so both the real and dual parts of the output are undefined. As we stated above, if the `a` is within `1e-10` of these points, we raise a `ValueError` exception.\n",
    "- If `a` is within `1e-6` but not within `1e-10`, we raise a `RuntimeWarning` instead. The code will continue running, but the user will be warned of potential danger.\n",
    "- In case the input objects are arrays, the code will raise the exception/warning if any of the elements in the real array fail the checks.\n",
    "\n",
    "**Log near and below zero:**\n",
    "- If `a < 0`, `log(a)` is undefined and we raise a `ValueError`. If `a = 0`, both `log(a)` and `1/a` are undefined, we also raise a `ValueError`.\n",
    "- If the real part is `< 1e-10`, we raise a different `ValueError`, to signal that `a > 0` is not breached, but overflow/floating point inaccuracy is a risk.\n",
    "- If the real part is between `1e-10` and `1e-6`, we issue a `RuntimeWarning` instead. The code will continue executing.\n"
   ]
  },
  {
   "cell_type": "markdown",
   "metadata": {},
   "source": [
    "To demonstrate the exception handling in the `tan(a)` method, let us take a look at some examples:"
   ]
  },
  {
   "cell_type": "code",
   "execution_count": 3,
   "metadata": {},
   "outputs": [
    {
     "name": "stdout",
     "output_type": "stream",
     "text": [
      "Caught expected ValueError for tan: Real value too close to pi/2 + n*pi.\n"
     ]
    }
   ],
   "source": [
    "# To demonstrate the behaviour for tan close to the boundary, let's try π/2 exactly.\n",
    "try:\n",
    "    undef_tan = Dual_x(np.pi/2, 1e-11).tan()  # Raises a ValueError\n",
    "except ValueError as e:\n",
    "    print(\"Caught expected ValueError for tan:\", e)\n"
   ]
  },
  {
   "cell_type": "code",
   "execution_count": 4,
   "metadata": {},
   "outputs": [
    {
     "name": "stdout",
     "output_type": "stream",
     "text": [
      "Caught RuntimeWarning for tan: Real value close to pi/2 + n*pi; numerical instability possible.\n",
      "tan((π/2) + 1e-8 + 1ε) = -100000001.22 + 10000000244014102.00ε\n"
     ]
    }
   ],
   "source": [
    "# To see the warning beaing raised, let us slightly offset from π/2  by 1e-8, which is <1e-6 but >1e-10\n",
    "with warnings.catch_warnings(record=True) as w:\n",
    "    warnings.simplefilter(\"always\")\n",
    "    warn_tan = Dual_x((np.pi/2) + 1e-8, 1.0).tan()\n",
    "    # Check if a warning was triggered\n",
    "    if w:\n",
    "        for warn in w:\n",
    "            print(\"Caught RuntimeWarning for tan:\", warn.message)\n",
    "            \n",
    "# Print the result to show it's computed\n",
    "print(\"tan((π/2) + 1e-8 + 1ε) = {:.2f} + {:.2f}ε\".format(warn_tan.real, warn_tan.dual))\n"
   ]
  },
  {
   "cell_type": "markdown",
   "metadata": {},
   "source": [
    "The real and especially the dual parts of the result are clearly beginning to explode. Rather than letting them, we chose to cap the proximity to the boundaries."
   ]
  },
  {
   "cell_type": "markdown",
   "metadata": {},
   "source": [
    " Let us now move on the see the behavior of the `log(a)`:"
   ]
  },
  {
   "cell_type": "code",
   "execution_count": 5,
   "metadata": {},
   "outputs": [
    {
     "name": "stdout",
     "output_type": "stream",
     "text": [
      "Caught expected ValueError for log: Log cannot take 0 or negative real part.\n"
     ]
    }
   ],
   "source": [
    "# Let's try log with a non-positive real number.\n",
    "try:\n",
    "    undef_log = Dual_x(-1, 1.0).log()  # a < 0, this should raise ValueError\n",
    "except ValueError as e:\n",
    "    print(\"Caught expected ValueError for log:\", e)\n"
   ]
  },
  {
   "cell_type": "code",
   "execution_count": 6,
   "metadata": {},
   "outputs": [
    {
     "name": "stdout",
     "output_type": "stream",
     "text": [
      "Caught expected ValueError for log: Real value less than 1e-10. Potential overflow in log.\n"
     ]
    }
   ],
   "source": [
    "# Let's also try log with a positive real number < 1e-10.\n",
    "try:\n",
    "    undef_log = Dual_x(1e-11, 1.0).log()  # a < 0, this should raise a different ValueError\n",
    "except ValueError as e:\n",
    "    print(\"Caught expected ValueError for log:\", e)"
   ]
  },
  {
   "cell_type": "markdown",
   "metadata": {},
   "source": [
    "Clearly, the two `ValueError` raised give different exceptions. This is to tell the user that the cause for the problem is not the same in both cases. In the former, the condition `a > 0` is breached, whereas in the latter it is not. However, in the latter, `a` is so close to `0` that it may cause issues with overflow or floating point precision. Let us see what happens when `1e-10 < a < 1e-6`:"
   ]
  },
  {
   "cell_type": "code",
   "execution_count": 7,
   "metadata": {},
   "outputs": [
    {
     "name": "stdout",
     "output_type": "stream",
     "text": [
      "Caught RuntimeWarning for log: Log input close to zero; numerical instability possible.\n",
      "log(1e-8 + 1.0ε) = -18.42 + 100000000.00ε\n"
     ]
    }
   ],
   "source": [
    "# Let's try a positive real value between 1e-6 and 1e-10, say 1e-8\n",
    "with warnings.catch_warnings(record=True) as w:\n",
    "    warnings.simplefilter(\"always\")\n",
    "    warn_log = Dual_x(1e-8, 1.0).log()\n",
    "    # Check if a warning was triggered\n",
    "    if w:\n",
    "        for warn in w:\n",
    "            print(\"Caught RuntimeWarning for log:\", warn.message)\n",
    "\n",
    "print(\"log(1e-8 + 1.0ε) = {:.2f} + {:.2f}ε\".format(warn_log.real, warn_log.dual))\n"
   ]
  },
  {
   "cell_type": "markdown",
   "metadata": {},
   "source": [
    "The code finished executing, and gave us an output, but we can clearly see that the dual part is beginning to explode, as was the case with the `tan(a)`."
   ]
  },
  {
   "cell_type": "markdown",
   "metadata": {},
   "source": [
    "Class objects of type `Dual` and also handle array-like objects as inputs. The functionality of the code remains broadly the same, except that the code will demand that the `real` and `dual` input array-like objects are of the same shape. If they are not, the code will raise a `ValueError` during the initialization of the `Dual` number object:"
   ]
  },
  {
   "cell_type": "code",
   "execution_count": 8,
   "metadata": {},
   "outputs": [
    {
     "name": "stdout",
     "output_type": "stream",
     "text": [
      "Caught expected ValueError for mismatched arrays: Shape mismatch: real (3,), dual (2,)\n"
     ]
    }
   ],
   "source": [
    "# Let's try input arrays with different shapes.\n",
    "try:\n",
    "    # These arrays have length 3 and 2\n",
    "    # Note these are lists, not numpy arrays\n",
    "    array1 = [1, 2, 3]\n",
    "    array2 = [3, 4]\n",
    "    mismatched_arrays = Dual_x(array1, array2)  # This should raise ValueError\n",
    "except ValueError as e:\n",
    "    print(\"Caught expected ValueError for mismatched arrays:\", e)\n"
   ]
  },
  {
   "cell_type": "markdown",
   "metadata": {},
   "source": [
    "## Finding the derivative of a function\n",
    "\n",
    "Let us finish by demonstrating how to employ the Dual class to differentiate more complicated functions, using the function `f(x) = log(sin(x)) + x^2cos(x)`. Our goal is to find its derivative at `x = 1.5`. First, let us redefine `x = a + 1.0ε` to be be a dual number, where `a = 1.5`:"
   ]
  },
  {
   "cell_type": "code",
   "execution_count": 9,
   "metadata": {},
   "outputs": [
    {
     "name": "stdout",
     "output_type": "stream",
     "text": [
      "x = 1.50 + 1.00ε\n"
     ]
    }
   ],
   "source": [
    "x = Dual_x(1.5, 1)\n",
    "print(\"x = {:.2f} + {:.2f}ε\".format(x.real, x.dual))"
   ]
  },
  {
   "cell_type": "markdown",
   "metadata": {},
   "source": [
    "For nested function, we act of `x` with the `Dual` class methods in the same order as the functions act on `x` in `f(x)`. This means that for the first term, `sin` will be applied first, then `log`. For the second term, we act on `x^2` and `cos(x)` separately. We can do this, because the dual number method will automatically apply the chain rule. Thus the derivative of `f(x)` is simply:"
   ]
  },
  {
   "cell_type": "code",
   "execution_count": 31,
   "metadata": {},
   "outputs": [
    {
     "name": "stdout",
     "output_type": "stream",
     "text": [
      "diff_x = 0.16 + -1.96ε\n"
     ]
    }
   ],
   "source": [
    "diff_x = x.sin().log() + x**2 * x.cos()\n",
    "print(\"diff_x = {:.2f} + {:.2f}ε\".format(diff_x.real, diff_x.dual))"
   ]
  },
  {
   "cell_type": "markdown",
   "metadata": {},
   "source": [
    "We can read off the derivative from the dual part of `diff_x`. Finally, let us compare autodifferentiation to finite difference. We define a function `test_func`, which evaluates the function `f(x)` as a dual number. We then use `test_func(x).real` and `test_func(x).dual` to find the finite difference and autodifferentiation, respectively:"
   ]
  },
  {
   "cell_type": "code",
   "execution_count": 10,
   "metadata": {},
   "outputs": [],
   "source": [
    "def test_func(x):\n",
    "    # We embed the autodifferentiation method inside a function, to be able to call the real part\n",
    "    # for finite difference, and the dual part for autodifferentiation\n",
    "    dual_array = np.ones(len(x)) # set dual input to array of ones, with length equal to real input\n",
    "    x = Dual_x(x, dual_array)\n",
    "    return x.sin().log() + x**2 * x.cos()\n",
    "\n",
    "\n",
    "def auto_diff(x_array):\n",
    "    # Find the derivative using autodifferentiation\n",
    "    # If there is an exception, use nan\n",
    "    diff = test_func(x_array).dual # derivative of f(x) array\n",
    "\n",
    "    return diff\n",
    "\n",
    "    \n",
    "\n",
    "def fd(x_array):\n",
    "    # Find the derivative using central finite difference.\n",
    "    # Uses the real part of test_func to find f(x)\n",
    "    f = test_func(x_array).real # value of f(x) array\n",
    "\n",
    "    diff = np.gradient(f, x_array) # derivative found via finite difference\n",
    "    return diff\n"
   ]
  },
  {
   "cell_type": "code",
   "execution_count": 11,
   "metadata": {},
   "outputs": [
    {
     "data": {
      "image/png": "[encoded data removed]",
      "text/plain": [
       "<Figure size 1000x600 with 4 Axes>"
      ]
     },
     "metadata": {},
     "output_type": "display_data"
    }
   ],
   "source": [
    "import matplotlib.pyplot as plt\n",
    "\n",
    "N_data = [4, 40, 400, 4000]\n",
    "\n",
    "plt.figure(figsize=(10, 6))\n",
    "for i in range(4):\n",
    "\n",
    "    data = np.linspace(0.01, 3.13, N_data[i]) # generate data inside defined region, avoid x = 0 and x = pi\n",
    "    y_auto = auto_diff(data) # autodifferentiate\n",
    "    y_fd = fd(data) # finite difference\n",
    "\n",
    "    plt.subplot(2, 2, i+1)\n",
    "    plt.title(f'Number of data points = {N_data[i]}')\n",
    "    plt.plot(data, y_auto, color = 'blue', label = 'Auto-differentiation', alpha = 0.5)\n",
    "    plt.plot(data, y_fd, color = 'red', label = 'Central Difference', alpha = 0.5)\n",
    "    plt.xlabel('x')\n",
    "    plt.ylabel('$f~\\'(x)$')\n",
    "    plt.tight_layout()\n",
    "    plt.grid()\n",
    "    plt.legend()"
   ]
  },
  {
   "cell_type": "markdown",
   "metadata": {},
   "source": [
    "Autodifferentiation gives the analytical values for the derivatives, whereas finite difference approximates them based on the rise over run between neighboring data points. Therefore, finite difference suffers when there are not enough data points, which is especially apparent when there are only 4 data points. Additionally, finite difference performs poorly when the slopes are very large, such as at the asymptotes at `x = 0` and `x=pi`."
   ]
  }
 ],
 "metadata": {
  "kernelspec": {
   "display_name": "C1_venv",
   "language": "python",
   "name": "python3"
  },
  "language_info": {
   "codemirror_mode": {
    "name": "ipython",
    "version": 3
   },
   "file_extension": ".py",
   "mimetype": "text/x-python",
   "name": "python",
   "nbconvert_exporter": "python",
   "pygments_lexer": "ipython3",
   "version": "3.12.3"
  }
 },
 "nbformat": 4,
 "nbformat_minor": 2
}
